{
 "cells": [
  {
   "cell_type": "markdown",
   "metadata": {},
   "source": [
    "# <p style='text-align: center;'> IMDB ANALYSIS </p>\n"
   ]
  },
  {
   "cell_type": "markdown",
   "metadata": {},
   "source": [
    "### <p style='text-align: center;'> Notebook with data analysis about IMDB database </p>\n",
    "### <p style='text-align: left;'> source: https://www.kaggle.com/stefanoleone992/imdb-extensive-dataset  </p>\n",
    "### <p style='text-align: left;'> author: Fabrício da Silva </p>"
   ]
  },
  {
   "cell_type": "markdown",
   "metadata": {},
   "source": [
    "### ETL"
   ]
  },
  {
   "cell_type": "markdown",
   "metadata": {},
   "source": [
    "#### IMPORTING THE LIBRARIES"
   ]
  },
  {
   "cell_type": "code",
   "execution_count": 2,
   "metadata": {},
   "outputs": [],
   "source": [
    "import pandas as pd\n",
    "import numpy as np\n",
    "import matplotlib.pyplot as plt\n",
    "import seaborn as sns\n",
    "import re\n",
    "from datetime import datetime\n",
    "% matplotlib inline"
   ]
  },
  {
   "cell_type": "markdown",
   "metadata": {},
   "source": [
    "#### EXTRACT THE DATA "
   ]
  },
  {
   "cell_type": "code",
   "execution_count": 3,
   "metadata": {
    "scrolled": true
   },
   "outputs": [
    {
     "name": "stderr",
     "output_type": "stream",
     "text": [
      "C:\\Users\\sfsrj\\Anaconda3\\lib\\site-packages\\IPython\\core\\interactiveshell.py:2785: DtypeWarning: Columns (3) have mixed types. Specify dtype option on import or set low_memory=False.\n",
      "  interactivity=interactivity, compiler=compiler, result=result)\n"
     ]
    },
    {
     "data": {
      "text/html": [
       "<div>\n",
       "<style scoped>\n",
       "    .dataframe tbody tr th:only-of-type {\n",
       "        vertical-align: middle;\n",
       "    }\n",
       "\n",
       "    .dataframe tbody tr th {\n",
       "        vertical-align: top;\n",
       "    }\n",
       "\n",
       "    .dataframe thead th {\n",
       "        text-align: right;\n",
       "    }\n",
       "</style>\n",
       "<table border=\"1\" class=\"dataframe\">\n",
       "  <thead>\n",
       "    <tr style=\"text-align: right;\">\n",
       "      <th></th>\n",
       "      <th>imdb_title_id</th>\n",
       "      <th>title</th>\n",
       "      <th>original_title</th>\n",
       "      <th>year</th>\n",
       "      <th>date_published</th>\n",
       "      <th>genre</th>\n",
       "      <th>duration</th>\n",
       "      <th>country</th>\n",
       "      <th>language</th>\n",
       "      <th>director</th>\n",
       "      <th>...</th>\n",
       "      <th>actors</th>\n",
       "      <th>description</th>\n",
       "      <th>avg_vote</th>\n",
       "      <th>votes</th>\n",
       "      <th>budget</th>\n",
       "      <th>usa_gross_income</th>\n",
       "      <th>worlwide_gross_income</th>\n",
       "      <th>metascore</th>\n",
       "      <th>reviews_from_users</th>\n",
       "      <th>reviews_from_critics</th>\n",
       "    </tr>\n",
       "  </thead>\n",
       "  <tbody>\n",
       "    <tr>\n",
       "      <th>0</th>\n",
       "      <td>tt0000009</td>\n",
       "      <td>Miss Jerry</td>\n",
       "      <td>Miss Jerry</td>\n",
       "      <td>1894</td>\n",
       "      <td>1894-10-09</td>\n",
       "      <td>Romance</td>\n",
       "      <td>45</td>\n",
       "      <td>USA</td>\n",
       "      <td>None</td>\n",
       "      <td>Alexander Black</td>\n",
       "      <td>...</td>\n",
       "      <td>Blanche Bayliss, William Courtenay, Chauncey D...</td>\n",
       "      <td>The adventures of a female reporter in the 1890s.</td>\n",
       "      <td>5.9</td>\n",
       "      <td>154</td>\n",
       "      <td>NaN</td>\n",
       "      <td>NaN</td>\n",
       "      <td>NaN</td>\n",
       "      <td>NaN</td>\n",
       "      <td>1.0</td>\n",
       "      <td>2.0</td>\n",
       "    </tr>\n",
       "    <tr>\n",
       "      <th>1</th>\n",
       "      <td>tt0000574</td>\n",
       "      <td>The Story of the Kelly Gang</td>\n",
       "      <td>The Story of the Kelly Gang</td>\n",
       "      <td>1906</td>\n",
       "      <td>1906-12-26</td>\n",
       "      <td>Biography, Crime, Drama</td>\n",
       "      <td>70</td>\n",
       "      <td>Australia</td>\n",
       "      <td>None</td>\n",
       "      <td>Charles Tait</td>\n",
       "      <td>...</td>\n",
       "      <td>Elizabeth Tait, John Tait, Norman Campbell, Be...</td>\n",
       "      <td>True story of notorious Australian outlaw Ned ...</td>\n",
       "      <td>6.1</td>\n",
       "      <td>589</td>\n",
       "      <td>$ 2250</td>\n",
       "      <td>NaN</td>\n",
       "      <td>NaN</td>\n",
       "      <td>NaN</td>\n",
       "      <td>7.0</td>\n",
       "      <td>7.0</td>\n",
       "    </tr>\n",
       "  </tbody>\n",
       "</table>\n",
       "<p>2 rows × 22 columns</p>\n",
       "</div>"
      ],
      "text/plain": [
       "  imdb_title_id                        title               original_title  \\\n",
       "0     tt0000009                   Miss Jerry                   Miss Jerry   \n",
       "1     tt0000574  The Story of the Kelly Gang  The Story of the Kelly Gang   \n",
       "\n",
       "   year date_published                    genre  duration    country language  \\\n",
       "0  1894     1894-10-09                  Romance        45        USA     None   \n",
       "1  1906     1906-12-26  Biography, Crime, Drama        70  Australia     None   \n",
       "\n",
       "          director          ...           \\\n",
       "0  Alexander Black          ...            \n",
       "1     Charles Tait          ...            \n",
       "\n",
       "                                              actors  \\\n",
       "0  Blanche Bayliss, William Courtenay, Chauncey D...   \n",
       "1  Elizabeth Tait, John Tait, Norman Campbell, Be...   \n",
       "\n",
       "                                         description avg_vote votes  budget  \\\n",
       "0  The adventures of a female reporter in the 1890s.      5.9   154     NaN   \n",
       "1  True story of notorious Australian outlaw Ned ...      6.1   589  $ 2250   \n",
       "\n",
       "   usa_gross_income worlwide_gross_income metascore reviews_from_users  \\\n",
       "0               NaN                   NaN       NaN                1.0   \n",
       "1               NaN                   NaN       NaN                7.0   \n",
       "\n",
       "   reviews_from_critics  \n",
       "0                   2.0  \n",
       "1                   7.0  \n",
       "\n",
       "[2 rows x 22 columns]"
      ]
     },
     "execution_count": 3,
     "metadata": {},
     "output_type": "execute_result"
    }
   ],
   "source": [
    "df_imdb = pd.read_csv('IMDb movies.csv')\n",
    "df_imdb.head(2)"
   ]
  },
  {
   "cell_type": "markdown",
   "metadata": {},
   "source": [
    "#### VERIFYING THE COLUMNS"
   ]
  },
  {
   "cell_type": "code",
   "execution_count": 4,
   "metadata": {},
   "outputs": [
    {
     "data": {
      "text/plain": [
       "Index(['imdb_title_id', 'title', 'original_title', 'year', 'date_published',\n",
       "       'genre', 'duration', 'country', 'language', 'director', 'writer',\n",
       "       'production_company', 'actors', 'description', 'avg_vote', 'votes',\n",
       "       'budget', 'usa_gross_income', 'worlwide_gross_income', 'metascore',\n",
       "       'reviews_from_users', 'reviews_from_critics'],\n",
       "      dtype='object')"
      ]
     },
     "execution_count": 4,
     "metadata": {},
     "output_type": "execute_result"
    }
   ],
   "source": [
    "df_imdb.columns"
   ]
  },
  {
   "cell_type": "markdown",
   "metadata": {},
   "source": [
    "#### VERIFYING THE ROWS AND COLUMNS"
   ]
  },
  {
   "cell_type": "code",
   "execution_count": 5,
   "metadata": {},
   "outputs": [
    {
     "data": {
      "text/plain": [
       "(85855, 22)"
      ]
     },
     "execution_count": 5,
     "metadata": {},
     "output_type": "execute_result"
    }
   ],
   "source": [
    "df_imdb.shape"
   ]
  },
  {
   "cell_type": "markdown",
   "metadata": {},
   "source": [
    "#### NULLS AND TYPES PER COLUMNS"
   ]
  },
  {
   "cell_type": "code",
   "execution_count": 6,
   "metadata": {},
   "outputs": [
    {
     "name": "stdout",
     "output_type": "stream",
     "text": [
      "<class 'pandas.core.frame.DataFrame'>\n",
      "RangeIndex: 85855 entries, 0 to 85854\n",
      "Data columns (total 22 columns):\n",
      "imdb_title_id            85855 non-null object\n",
      "title                    85855 non-null object\n",
      "original_title           85855 non-null object\n",
      "year                     85855 non-null object\n",
      "date_published           85855 non-null object\n",
      "genre                    85855 non-null object\n",
      "duration                 85855 non-null int64\n",
      "country                  85791 non-null object\n",
      "language                 85022 non-null object\n",
      "director                 85768 non-null object\n",
      "writer                   84283 non-null object\n",
      "production_company       81400 non-null object\n",
      "actors                   85786 non-null object\n",
      "description              83740 non-null object\n",
      "avg_vote                 85855 non-null float64\n",
      "votes                    85855 non-null int64\n",
      "budget                   23710 non-null object\n",
      "usa_gross_income         15326 non-null object\n",
      "worlwide_gross_income    31016 non-null object\n",
      "metascore                13305 non-null float64\n",
      "reviews_from_users       78258 non-null float64\n",
      "reviews_from_critics     74058 non-null float64\n",
      "dtypes: float64(4), int64(2), object(16)\n",
      "memory usage: 14.4+ MB\n"
     ]
    }
   ],
   "source": [
    "df_imdb.info()"
   ]
  },
  {
   "cell_type": "markdown",
   "metadata": {},
   "source": [
    "#### DUPLICATES"
   ]
  },
  {
   "cell_type": "code",
   "execution_count": 7,
   "metadata": {
    "scrolled": false
   },
   "outputs": [
    {
     "data": {
      "text/plain": [
       "0"
      ]
     },
     "execution_count": 7,
     "metadata": {},
     "output_type": "execute_result"
    }
   ],
   "source": [
    "df_imdb.duplicated().sum()"
   ]
  },
  {
   "cell_type": "markdown",
   "metadata": {},
   "source": [
    "#### FUNCTION CLEAN"
   ]
  },
  {
   "cell_type": "code",
   "execution_count": 8,
   "metadata": {},
   "outputs": [],
   "source": [
    "# ALGUMAS COLUNAS NUMÉRICAS ESTAVAM APRESENTANDO LETRAS.\n",
    "# A FUNÇÃO ABAIXO AS RETIRA E MANTÉM SOMENTE OS DADOS NUMÉRICOS\n",
    "def clean (col): \n",
    "    new_col = []\n",
    "    for y in df_imdb[col]:\n",
    "        new_col.append(re.sub(\"[^0-9]\",\"\",str(y))) #REGULAR EXPRESSION PARA MANTER APENAS OS NÚMEROS\n",
    "    df_imdb[col] = new_col"
   ]
  },
  {
   "cell_type": "markdown",
   "metadata": {},
   "source": [
    "#### CLEANING AND CHANGING THE TYPES"
   ]
  },
  {
   "cell_type": "code",
   "execution_count": 9,
   "metadata": {},
   "outputs": [],
   "source": [
    "# ALGUMAS CÉLULAS DA COLUNA 'YEAR' CONTÉM LETRAS\n",
    "clean('year')"
   ]
  },
  {
   "cell_type": "code",
   "execution_count": 10,
   "metadata": {},
   "outputs": [
    {
     "name": "stdout",
     "output_type": "stream",
     "text": [
      "The column year is now: int64\n"
     ]
    }
   ],
   "source": [
    "df_imdb['year'] = df_imdb['year'].astype('int64') #MODIFICA O TIPO\n",
    "print('The column year is now: {}'.format(df_imdb['year'].dtypes))"
   ]
  },
  {
   "cell_type": "code",
   "execution_count": 11,
   "metadata": {},
   "outputs": [],
   "source": [
    "# ALGUMAS CÉLULAS DA COLUNA 'DATE_PUBLISHED' ESTÃO FORA DO FORMATO\n",
    "clean('date_published')"
   ]
  },
  {
   "cell_type": "code",
   "execution_count": 12,
   "metadata": {},
   "outputs": [
    {
     "name": "stdout",
     "output_type": "stream",
     "text": [
      "The column date_published is now: datetime64[ns]\n"
     ]
    }
   ],
   "source": [
    "df_imdb['date_published'] = pd.to_datetime(df_imdb['date_published'], format = '%Y-%m-%d') #modifica para o formato yyyy-mm-dd\n",
    "print('The column date_published is now: {}'.format(df_imdb['date_published'].dtypes))"
   ]
  },
  {
   "cell_type": "code",
   "execution_count": 13,
   "metadata": {},
   "outputs": [],
   "source": [
    "# ALGUMAS CÉLULAS DA COLUNA 'BUDGET' CONTÉM LETRAS E HÁ MUITOS DADOS NULOS\n",
    "df_imdb['budget'].fillna('0' , inplace = True) # SUBSTITUI O NULO PELO ZERO\n",
    "clean('budget')"
   ]
  },
  {
   "cell_type": "code",
   "execution_count": 14,
   "metadata": {},
   "outputs": [
    {
     "name": "stdout",
     "output_type": "stream",
     "text": [
      "The column budget: float64\n"
     ]
    }
   ],
   "source": [
    "df_imdb['budget'] = df_imdb['budget'].astype('float64') # MODIFICA O TIPO\n",
    "print('The column budget: {}'.format(df_imdb['budget'].dtypes))"
   ]
  },
  {
   "cell_type": "code",
   "execution_count": 15,
   "metadata": {},
   "outputs": [],
   "source": [
    "# ALGUMAS CÉLULAS DA COLUNA 'USA_GROSS_INCOME' CONTÉM LETRAS E HÁ MUITOS DADOS NULOS\n",
    "df_imdb['usa_gross_income'].fillna('0' , inplace = True) # SUBSTITUI O NULO PELO ZERO\n",
    "clean('usa_gross_income')"
   ]
  },
  {
   "cell_type": "code",
   "execution_count": 16,
   "metadata": {},
   "outputs": [
    {
     "name": "stdout",
     "output_type": "stream",
     "text": [
      "The column usa_gross_income is now: int64\n"
     ]
    }
   ],
   "source": [
    "df_imdb['usa_gross_income'] = df_imdb['usa_gross_income'].astype('int64')\n",
    "print('The column usa_gross_income is now: {}'.format(df_imdb['usa_gross_income'].dtypes))"
   ]
  },
  {
   "cell_type": "code",
   "execution_count": 19,
   "metadata": {},
   "outputs": [],
   "source": [
    "# ALGUMAS CÉLULAS DA COLUNA 'WORLDWIDE_GROSS_INCOME' CONTÉM LETRAS E HÁ MUITOS DADOS NULOS\n",
    "df_imdb['worlwide_gross_income'].fillna('0' , inplace = True) # SUBSTITUI O NULO PELO ZERO\n",
    "clean('worlwide_gross_income')"
   ]
  },
  {
   "cell_type": "code",
   "execution_count": 20,
   "metadata": {},
   "outputs": [
    {
     "name": "stdout",
     "output_type": "stream",
     "text": [
      "The column worlwide_gross_income is now: float64\n"
     ]
    }
   ],
   "source": [
    "df_imdb['worlwide_gross_income'] = df_imdb['worlwide_gross_income'].astype('float64')# MODIFICA O TIPO\n",
    "print('The column worlwide_gross_income is now: {}'.format(df_imdb['worlwide_gross_income'].dtypes))"
   ]
  },
  {
   "cell_type": "markdown",
   "metadata": {},
   "source": [
    "#### TREATING THE  OTHER NULLS"
   ]
  },
  {
   "cell_type": "code",
   "execution_count": 21,
   "metadata": {},
   "outputs": [
    {
     "name": "stdout",
     "output_type": "stream",
     "text": [
      "0 0\n"
     ]
    }
   ],
   "source": [
    "# AS COLUNAS \"BUDGET\", \"USA_GROSS_INCOME\" AND \"WORLWIDE_GROSS_INCOME\" FORAM TRATADAS ANTERIORMENTE\n",
    "# SERÃO TRATADOS OS NULOS DAS COLUNAS 'review_from_users' and review from critics\n",
    "def drops (col):\n",
    "    df_imdb[col].fillna('0' , inplace = True)\n",
    "    \n",
    "drops('reviews_from_users')\n",
    "drops('reviews_from_critics')\n",
    "\n",
    "print(df_imdb['reviews_from_users'].isnull().sum() , df_imdb['reviews_from_critics'].isnull().sum())"
   ]
  },
  {
   "cell_type": "markdown",
   "metadata": {},
   "source": [
    "#### SAVE IN CSV FILE"
   ]
  },
  {
   "cell_type": "code",
   "execution_count": 22,
   "metadata": {},
   "outputs": [],
   "source": [
    "df_imdb.to_csv('IMDB_clean.csv')"
   ]
  },
  {
   "cell_type": "markdown",
   "metadata": {},
   "source": [
    "### ANALYSIS"
   ]
  },
  {
   "cell_type": "markdown",
   "metadata": {},
   "source": [
    "#### EXTRACT THE CLEAN DATA"
   ]
  },
  {
   "cell_type": "code",
   "execution_count": 23,
   "metadata": {},
   "outputs": [
    {
     "data": {
      "text/html": [
       "<div>\n",
       "<style scoped>\n",
       "    .dataframe tbody tr th:only-of-type {\n",
       "        vertical-align: middle;\n",
       "    }\n",
       "\n",
       "    .dataframe tbody tr th {\n",
       "        vertical-align: top;\n",
       "    }\n",
       "\n",
       "    .dataframe thead th {\n",
       "        text-align: right;\n",
       "    }\n",
       "</style>\n",
       "<table border=\"1\" class=\"dataframe\">\n",
       "  <thead>\n",
       "    <tr style=\"text-align: right;\">\n",
       "      <th></th>\n",
       "      <th>Unnamed: 0</th>\n",
       "      <th>imdb_title_id</th>\n",
       "      <th>title</th>\n",
       "      <th>original_title</th>\n",
       "      <th>year</th>\n",
       "      <th>date_published</th>\n",
       "      <th>genre</th>\n",
       "      <th>duration</th>\n",
       "      <th>country</th>\n",
       "      <th>language</th>\n",
       "      <th>...</th>\n",
       "      <th>actors</th>\n",
       "      <th>description</th>\n",
       "      <th>avg_vote</th>\n",
       "      <th>votes</th>\n",
       "      <th>budget</th>\n",
       "      <th>usa_gross_income</th>\n",
       "      <th>worlwide_gross_income</th>\n",
       "      <th>metascore</th>\n",
       "      <th>reviews_from_users</th>\n",
       "      <th>reviews_from_critics</th>\n",
       "    </tr>\n",
       "  </thead>\n",
       "  <tbody>\n",
       "    <tr>\n",
       "      <th>0</th>\n",
       "      <td>0</td>\n",
       "      <td>tt0000009</td>\n",
       "      <td>Miss Jerry</td>\n",
       "      <td>Miss Jerry</td>\n",
       "      <td>1894</td>\n",
       "      <td>1894-10-09</td>\n",
       "      <td>Romance</td>\n",
       "      <td>45</td>\n",
       "      <td>USA</td>\n",
       "      <td>None</td>\n",
       "      <td>...</td>\n",
       "      <td>Blanche Bayliss, William Courtenay, Chauncey D...</td>\n",
       "      <td>The adventures of a female reporter in the 1890s.</td>\n",
       "      <td>5.9</td>\n",
       "      <td>154</td>\n",
       "      <td>0.0</td>\n",
       "      <td>0</td>\n",
       "      <td>0.0</td>\n",
       "      <td>NaN</td>\n",
       "      <td>1.0</td>\n",
       "      <td>2.0</td>\n",
       "    </tr>\n",
       "    <tr>\n",
       "      <th>1</th>\n",
       "      <td>1</td>\n",
       "      <td>tt0000574</td>\n",
       "      <td>The Story of the Kelly Gang</td>\n",
       "      <td>The Story of the Kelly Gang</td>\n",
       "      <td>1906</td>\n",
       "      <td>1906-12-26</td>\n",
       "      <td>Biography, Crime, Drama</td>\n",
       "      <td>70</td>\n",
       "      <td>Australia</td>\n",
       "      <td>None</td>\n",
       "      <td>...</td>\n",
       "      <td>Elizabeth Tait, John Tait, Norman Campbell, Be...</td>\n",
       "      <td>True story of notorious Australian outlaw Ned ...</td>\n",
       "      <td>6.1</td>\n",
       "      <td>589</td>\n",
       "      <td>2250.0</td>\n",
       "      <td>0</td>\n",
       "      <td>0.0</td>\n",
       "      <td>NaN</td>\n",
       "      <td>7.0</td>\n",
       "      <td>7.0</td>\n",
       "    </tr>\n",
       "  </tbody>\n",
       "</table>\n",
       "<p>2 rows × 23 columns</p>\n",
       "</div>"
      ],
      "text/plain": [
       "   Unnamed: 0 imdb_title_id                        title  \\\n",
       "0           0     tt0000009                   Miss Jerry   \n",
       "1           1     tt0000574  The Story of the Kelly Gang   \n",
       "\n",
       "                original_title  year date_published                    genre  \\\n",
       "0                   Miss Jerry  1894     1894-10-09                  Romance   \n",
       "1  The Story of the Kelly Gang  1906     1906-12-26  Biography, Crime, Drama   \n",
       "\n",
       "   duration    country language          ...           \\\n",
       "0        45        USA     None          ...            \n",
       "1        70  Australia     None          ...            \n",
       "\n",
       "                                              actors  \\\n",
       "0  Blanche Bayliss, William Courtenay, Chauncey D...   \n",
       "1  Elizabeth Tait, John Tait, Norman Campbell, Be...   \n",
       "\n",
       "                                         description avg_vote votes  budget  \\\n",
       "0  The adventures of a female reporter in the 1890s.      5.9   154     0.0   \n",
       "1  True story of notorious Australian outlaw Ned ...      6.1   589  2250.0   \n",
       "\n",
       "   usa_gross_income  worlwide_gross_income  metascore  reviews_from_users  \\\n",
       "0                 0                    0.0        NaN                 1.0   \n",
       "1                 0                    0.0        NaN                 7.0   \n",
       "\n",
       "   reviews_from_critics  \n",
       "0                   2.0  \n",
       "1                   7.0  \n",
       "\n",
       "[2 rows x 23 columns]"
      ]
     },
     "execution_count": 23,
     "metadata": {},
     "output_type": "execute_result"
    }
   ],
   "source": [
    "df_imdb = pd.read_csv('IMDB_clean.csv')\n",
    "df_imdb.head(2)"
   ]
  },
  {
   "cell_type": "code",
   "execution_count": 24,
   "metadata": {},
   "outputs": [
    {
     "data": {
      "text/html": [
       "<div>\n",
       "<style scoped>\n",
       "    .dataframe tbody tr th:only-of-type {\n",
       "        vertical-align: middle;\n",
       "    }\n",
       "\n",
       "    .dataframe tbody tr th {\n",
       "        vertical-align: top;\n",
       "    }\n",
       "\n",
       "    .dataframe thead th {\n",
       "        text-align: right;\n",
       "    }\n",
       "</style>\n",
       "<table border=\"1\" class=\"dataframe\">\n",
       "  <thead>\n",
       "    <tr style=\"text-align: right;\">\n",
       "      <th></th>\n",
       "      <th>Unnamed: 0</th>\n",
       "      <th>year</th>\n",
       "      <th>duration</th>\n",
       "      <th>avg_vote</th>\n",
       "      <th>votes</th>\n",
       "      <th>budget</th>\n",
       "      <th>usa_gross_income</th>\n",
       "      <th>worlwide_gross_income</th>\n",
       "      <th>metascore</th>\n",
       "      <th>reviews_from_users</th>\n",
       "      <th>reviews_from_critics</th>\n",
       "    </tr>\n",
       "  </thead>\n",
       "  <tbody>\n",
       "    <tr>\n",
       "      <th>count</th>\n",
       "      <td>85855.000000</td>\n",
       "      <td>85855.000000</td>\n",
       "      <td>85855.000000</td>\n",
       "      <td>85855.000000</td>\n",
       "      <td>8.585500e+04</td>\n",
       "      <td>8.585500e+04</td>\n",
       "      <td>8.585500e+04</td>\n",
       "      <td>8.585500e+04</td>\n",
       "      <td>13305.000000</td>\n",
       "      <td>85855.000000</td>\n",
       "      <td>85855.000000</td>\n",
       "    </tr>\n",
       "    <tr>\n",
       "      <th>mean</th>\n",
       "      <td>42927.000000</td>\n",
       "      <td>1993.500891</td>\n",
       "      <td>100.351418</td>\n",
       "      <td>5.898656</td>\n",
       "      <td>9.493490e+03</td>\n",
       "      <td>2.919385e+07</td>\n",
       "      <td>3.479775e+06</td>\n",
       "      <td>8.339442e+06</td>\n",
       "      <td>55.896881</td>\n",
       "      <td>41.966839</td>\n",
       "      <td>23.704071</td>\n",
       "    </tr>\n",
       "    <tr>\n",
       "      <th>std</th>\n",
       "      <td>24784.348018</td>\n",
       "      <td>24.216420</td>\n",
       "      <td>22.553848</td>\n",
       "      <td>1.234987</td>\n",
       "      <td>5.357436e+04</td>\n",
       "      <td>1.456807e+09</td>\n",
       "      <td>2.170666e+07</td>\n",
       "      <td>5.531962e+07</td>\n",
       "      <td>17.784874</td>\n",
       "      <td>170.931358</td>\n",
       "      <td>55.002744</td>\n",
       "    </tr>\n",
       "    <tr>\n",
       "      <th>min</th>\n",
       "      <td>0.000000</td>\n",
       "      <td>1894.000000</td>\n",
       "      <td>41.000000</td>\n",
       "      <td>1.000000</td>\n",
       "      <td>9.900000e+01</td>\n",
       "      <td>0.000000e+00</td>\n",
       "      <td>0.000000e+00</td>\n",
       "      <td>0.000000e+00</td>\n",
       "      <td>1.000000</td>\n",
       "      <td>0.000000</td>\n",
       "      <td>0.000000</td>\n",
       "    </tr>\n",
       "    <tr>\n",
       "      <th>25%</th>\n",
       "      <td>21463.500000</td>\n",
       "      <td>1979.000000</td>\n",
       "      <td>88.000000</td>\n",
       "      <td>5.200000</td>\n",
       "      <td>2.050000e+02</td>\n",
       "      <td>0.000000e+00</td>\n",
       "      <td>0.000000e+00</td>\n",
       "      <td>0.000000e+00</td>\n",
       "      <td>43.000000</td>\n",
       "      <td>2.000000</td>\n",
       "      <td>2.000000</td>\n",
       "    </tr>\n",
       "    <tr>\n",
       "      <th>50%</th>\n",
       "      <td>42927.000000</td>\n",
       "      <td>2003.000000</td>\n",
       "      <td>96.000000</td>\n",
       "      <td>6.100000</td>\n",
       "      <td>4.840000e+02</td>\n",
       "      <td>0.000000e+00</td>\n",
       "      <td>0.000000e+00</td>\n",
       "      <td>0.000000e+00</td>\n",
       "      <td>57.000000</td>\n",
       "      <td>8.000000</td>\n",
       "      <td>6.000000</td>\n",
       "    </tr>\n",
       "    <tr>\n",
       "      <th>75%</th>\n",
       "      <td>64390.500000</td>\n",
       "      <td>2013.000000</td>\n",
       "      <td>108.000000</td>\n",
       "      <td>6.800000</td>\n",
       "      <td>1.766500e+03</td>\n",
       "      <td>1.000000e+05</td>\n",
       "      <td>0.000000e+00</td>\n",
       "      <td>2.114660e+05</td>\n",
       "      <td>69.000000</td>\n",
       "      <td>23.000000</td>\n",
       "      <td>19.000000</td>\n",
       "    </tr>\n",
       "    <tr>\n",
       "      <th>max</th>\n",
       "      <td>85854.000000</td>\n",
       "      <td>2020.000000</td>\n",
       "      <td>808.000000</td>\n",
       "      <td>9.900000</td>\n",
       "      <td>2.278845e+06</td>\n",
       "      <td>3.500000e+11</td>\n",
       "      <td>9.366622e+08</td>\n",
       "      <td>2.797801e+09</td>\n",
       "      <td>100.000000</td>\n",
       "      <td>10472.000000</td>\n",
       "      <td>999.000000</td>\n",
       "    </tr>\n",
       "  </tbody>\n",
       "</table>\n",
       "</div>"
      ],
      "text/plain": [
       "         Unnamed: 0          year      duration      avg_vote         votes  \\\n",
       "count  85855.000000  85855.000000  85855.000000  85855.000000  8.585500e+04   \n",
       "mean   42927.000000   1993.500891    100.351418      5.898656  9.493490e+03   \n",
       "std    24784.348018     24.216420     22.553848      1.234987  5.357436e+04   \n",
       "min        0.000000   1894.000000     41.000000      1.000000  9.900000e+01   \n",
       "25%    21463.500000   1979.000000     88.000000      5.200000  2.050000e+02   \n",
       "50%    42927.000000   2003.000000     96.000000      6.100000  4.840000e+02   \n",
       "75%    64390.500000   2013.000000    108.000000      6.800000  1.766500e+03   \n",
       "max    85854.000000   2020.000000    808.000000      9.900000  2.278845e+06   \n",
       "\n",
       "             budget  usa_gross_income  worlwide_gross_income     metascore  \\\n",
       "count  8.585500e+04      8.585500e+04           8.585500e+04  13305.000000   \n",
       "mean   2.919385e+07      3.479775e+06           8.339442e+06     55.896881   \n",
       "std    1.456807e+09      2.170666e+07           5.531962e+07     17.784874   \n",
       "min    0.000000e+00      0.000000e+00           0.000000e+00      1.000000   \n",
       "25%    0.000000e+00      0.000000e+00           0.000000e+00     43.000000   \n",
       "50%    0.000000e+00      0.000000e+00           0.000000e+00     57.000000   \n",
       "75%    1.000000e+05      0.000000e+00           2.114660e+05     69.000000   \n",
       "max    3.500000e+11      9.366622e+08           2.797801e+09    100.000000   \n",
       "\n",
       "       reviews_from_users  reviews_from_critics  \n",
       "count        85855.000000          85855.000000  \n",
       "mean            41.966839             23.704071  \n",
       "std            170.931358             55.002744  \n",
       "min              0.000000              0.000000  \n",
       "25%              2.000000              2.000000  \n",
       "50%              8.000000              6.000000  \n",
       "75%             23.000000             19.000000  \n",
       "max          10472.000000            999.000000  "
      ]
     },
     "execution_count": 24,
     "metadata": {},
     "output_type": "execute_result"
    }
   ],
   "source": [
    "df_imdb.describe()"
   ]
  },
  {
   "cell_type": "markdown",
   "metadata": {},
   "source": [
    "#### THE THOUSAND HIGHEST RATED MOVIES FROM THE YEAR 2000"
   ]
  },
  {
   "cell_type": "code",
   "execution_count": 25,
   "metadata": {},
   "outputs": [],
   "source": [
    "df_imdb_news = df_imdb[df_imdb['year'] >= 2000] #FILTRA OS FILMES LANÇADOS A PARTIR DO ANO 2000\n",
    "df_imdb_rank = df_imdb_news[['title' ,'avg_vote', 'votes', 'director','actors']]\n",
    "df_rank = df_imdb_rank.sort_values(by='avg_vote', ascending = False)[0:1000] # RANQUEIA PELOS PRIMEIROS 1000 FILMES\n",
    "df_rank.to_csv('ranking_imdb.csv') # GUARDA NUM CSV"
   ]
  },
  {
   "cell_type": "markdown",
   "metadata": {},
   "source": [
    "#### FILM DIRECTORS"
   ]
  },
  {
   "cell_type": "code",
   "execution_count": 26,
   "metadata": {},
   "outputs": [
    {
     "data": {
      "text/html": [
       "<div>\n",
       "<style scoped>\n",
       "    .dataframe tbody tr th:only-of-type {\n",
       "        vertical-align: middle;\n",
       "    }\n",
       "\n",
       "    .dataframe tbody tr th {\n",
       "        vertical-align: top;\n",
       "    }\n",
       "\n",
       "    .dataframe thead th {\n",
       "        text-align: right;\n",
       "    }\n",
       "</style>\n",
       "<table border=\"1\" class=\"dataframe\">\n",
       "  <thead>\n",
       "    <tr style=\"text-align: right;\">\n",
       "      <th></th>\n",
       "      <th>title</th>\n",
       "      <th>director</th>\n",
       "      <th>avg_vote</th>\n",
       "    </tr>\n",
       "  </thead>\n",
       "  <tbody>\n",
       "    <tr>\n",
       "      <th>0</th>\n",
       "      <td>Suvarna Sundari</td>\n",
       "      <td>Msn Surya</td>\n",
       "      <td>9.9</td>\n",
       "    </tr>\n",
       "    <tr>\n",
       "      <th>1</th>\n",
       "      <td>Notuku Potu</td>\n",
       "      <td>Basheed S.K.</td>\n",
       "      <td>9.8</td>\n",
       "    </tr>\n",
       "    <tr>\n",
       "      <th>2</th>\n",
       "      <td>Jeeudo</td>\n",
       "      <td>Aalmist Subba</td>\n",
       "      <td>9.8</td>\n",
       "    </tr>\n",
       "    <tr>\n",
       "      <th>3</th>\n",
       "      <td>Ek</td>\n",
       "      <td>Sampath Rudra</td>\n",
       "      <td>9.8</td>\n",
       "    </tr>\n",
       "    <tr>\n",
       "      <th>4</th>\n",
       "      <td>Lejos de Casa pelicula Venezolana</td>\n",
       "      <td>Abner Official</td>\n",
       "      <td>9.8</td>\n",
       "    </tr>\n",
       "    <tr>\n",
       "      <th>5</th>\n",
       "      <td>Meka Suri</td>\n",
       "      <td>Trinadh Velisila</td>\n",
       "      <td>9.7</td>\n",
       "    </tr>\n",
       "    <tr>\n",
       "      <th>6</th>\n",
       "      <td>Hopeful Notes</td>\n",
       "      <td>Valerio Zanoli</td>\n",
       "      <td>9.7</td>\n",
       "    </tr>\n",
       "    <tr>\n",
       "      <th>7</th>\n",
       "      <td>Vaarthakal Ithuvare</td>\n",
       "      <td>Manoj Nair</td>\n",
       "      <td>9.7</td>\n",
       "    </tr>\n",
       "    <tr>\n",
       "      <th>8</th>\n",
       "      <td>The Moving on Phase</td>\n",
       "      <td>Don Tjernagel</td>\n",
       "      <td>9.5</td>\n",
       "    </tr>\n",
       "    <tr>\n",
       "      <th>9</th>\n",
       "      <td>Isha</td>\n",
       "      <td>Jose Thomas</td>\n",
       "      <td>9.5</td>\n",
       "    </tr>\n",
       "  </tbody>\n",
       "</table>\n",
       "</div>"
      ],
      "text/plain": [
       "                               title          director  avg_vote\n",
       "0                    Suvarna Sundari         Msn Surya       9.9\n",
       "1                        Notuku Potu      Basheed S.K.       9.8\n",
       "2                             Jeeudo     Aalmist Subba       9.8\n",
       "3                                 Ek     Sampath Rudra       9.8\n",
       "4  Lejos de Casa pelicula Venezolana    Abner Official       9.8\n",
       "5                          Meka Suri  Trinadh Velisila       9.7\n",
       "6                      Hopeful Notes    Valerio Zanoli       9.7\n",
       "7                Vaarthakal Ithuvare        Manoj Nair       9.7\n",
       "8                The Moving on Phase     Don Tjernagel       9.5\n",
       "9                               Isha       Jose Thomas       9.5"
      ]
     },
     "execution_count": 26,
     "metadata": {},
     "output_type": "execute_result"
    }
   ],
   "source": [
    "df_ranking = pd.read_csv('ranking_imdb.csv')\n",
    "directors = df_ranking[['title','director','avg_vote']]\n",
    "df_directors= pd.DataFrame(directors)\n",
    "df_directors.head(10)"
   ]
  },
  {
   "cell_type": "markdown",
   "metadata": {},
   "source": [
    "#### FILM ACTORS"
   ]
  },
  {
   "cell_type": "code",
   "execution_count": 28,
   "metadata": {},
   "outputs": [
    {
     "data": {
      "text/html": [
       "<div>\n",
       "<style scoped>\n",
       "    .dataframe tbody tr th:only-of-type {\n",
       "        vertical-align: middle;\n",
       "    }\n",
       "\n",
       "    .dataframe tbody tr th {\n",
       "        vertical-align: top;\n",
       "    }\n",
       "\n",
       "    .dataframe thead th {\n",
       "        text-align: right;\n",
       "    }\n",
       "</style>\n",
       "<table border=\"1\" class=\"dataframe\">\n",
       "  <thead>\n",
       "    <tr style=\"text-align: right;\">\n",
       "      <th></th>\n",
       "      <th>title</th>\n",
       "      <th>actors</th>\n",
       "      <th>avg_vote</th>\n",
       "    </tr>\n",
       "  </thead>\n",
       "  <tbody>\n",
       "    <tr>\n",
       "      <th>0</th>\n",
       "      <td>Suvarna Sundari</td>\n",
       "      <td>Shamna Kasim, Sakshi Chaudhary, Jaya Prada, Av...</td>\n",
       "      <td>9.9</td>\n",
       "    </tr>\n",
       "    <tr>\n",
       "      <th>1</th>\n",
       "      <td>Notuku Potu</td>\n",
       "      <td>Mumait Khan, Manisha Koirala, Arjun Sarja</td>\n",
       "      <td>9.8</td>\n",
       "    </tr>\n",
       "    <tr>\n",
       "      <th>2</th>\n",
       "      <td>Jeeudo</td>\n",
       "      <td>Prashant Baraili, Davina, Pranisha Gahatraj, P...</td>\n",
       "      <td>9.8</td>\n",
       "    </tr>\n",
       "    <tr>\n",
       "      <th>3</th>\n",
       "      <td>Ek</td>\n",
       "      <td>Bishnu Adhikari, Himanshi Khurana, Aparna Shar...</td>\n",
       "      <td>9.8</td>\n",
       "    </tr>\n",
       "    <tr>\n",
       "      <th>4</th>\n",
       "      <td>Lejos de Casa pelicula Venezolana</td>\n",
       "      <td>Angibell, Gabriel Buitrago, Darwing, Dariana J...</td>\n",
       "      <td>9.8</td>\n",
       "    </tr>\n",
       "    <tr>\n",
       "      <th>5</th>\n",
       "      <td>Meka Suri</td>\n",
       "      <td>Abhinay, Naresh Byreddy, Sharat Kumar, Sravan,...</td>\n",
       "      <td>9.7</td>\n",
       "    </tr>\n",
       "    <tr>\n",
       "      <th>6</th>\n",
       "      <td>Hopeful Notes</td>\n",
       "      <td>Walter Nudo, Colin Ross, Ian Poland, Laural Me...</td>\n",
       "      <td>9.7</td>\n",
       "    </tr>\n",
       "    <tr>\n",
       "      <th>7</th>\n",
       "      <td>Vaarthakal Ithuvare</td>\n",
       "      <td>Siju Wilson, Nandu, Vinay Forrt, Mammukoya, Al...</td>\n",
       "      <td>9.7</td>\n",
       "    </tr>\n",
       "    <tr>\n",
       "      <th>8</th>\n",
       "      <td>The Moving on Phase</td>\n",
       "      <td>Matt Anderson, Clint Boevers, Jillian Brown, C...</td>\n",
       "      <td>9.5</td>\n",
       "    </tr>\n",
       "    <tr>\n",
       "      <th>9</th>\n",
       "      <td>Isha</td>\n",
       "      <td>Kishore Satya, Abhishek Vinod</td>\n",
       "      <td>9.5</td>\n",
       "    </tr>\n",
       "  </tbody>\n",
       "</table>\n",
       "</div>"
      ],
      "text/plain": [
       "                               title  \\\n",
       "0                    Suvarna Sundari   \n",
       "1                        Notuku Potu   \n",
       "2                             Jeeudo   \n",
       "3                                 Ek   \n",
       "4  Lejos de Casa pelicula Venezolana   \n",
       "5                          Meka Suri   \n",
       "6                      Hopeful Notes   \n",
       "7                Vaarthakal Ithuvare   \n",
       "8                The Moving on Phase   \n",
       "9                               Isha   \n",
       "\n",
       "                                              actors  avg_vote  \n",
       "0  Shamna Kasim, Sakshi Chaudhary, Jaya Prada, Av...       9.9  \n",
       "1          Mumait Khan, Manisha Koirala, Arjun Sarja       9.8  \n",
       "2  Prashant Baraili, Davina, Pranisha Gahatraj, P...       9.8  \n",
       "3  Bishnu Adhikari, Himanshi Khurana, Aparna Shar...       9.8  \n",
       "4  Angibell, Gabriel Buitrago, Darwing, Dariana J...       9.8  \n",
       "5  Abhinay, Naresh Byreddy, Sharat Kumar, Sravan,...       9.7  \n",
       "6  Walter Nudo, Colin Ross, Ian Poland, Laural Me...       9.7  \n",
       "7  Siju Wilson, Nandu, Vinay Forrt, Mammukoya, Al...       9.7  \n",
       "8  Matt Anderson, Clint Boevers, Jillian Brown, C...       9.5  \n",
       "9                      Kishore Satya, Abhishek Vinod       9.5  "
      ]
     },
     "execution_count": 28,
     "metadata": {},
     "output_type": "execute_result"
    }
   ],
   "source": [
    "actors = df_ranking[['title','actors','avg_vote']]\n",
    "df_actor= pd.DataFrame(actors)\n",
    "df_actor.head(10)"
   ]
  },
  {
   "cell_type": "markdown",
   "metadata": {},
   "source": [
    "#### INTERSECTION"
   ]
  },
  {
   "cell_type": "code",
   "execution_count": 29,
   "metadata": {},
   "outputs": [
    {
     "data": {
      "text/html": [
       "<div>\n",
       "<style scoped>\n",
       "    .dataframe tbody tr th:only-of-type {\n",
       "        vertical-align: middle;\n",
       "    }\n",
       "\n",
       "    .dataframe tbody tr th {\n",
       "        vertical-align: top;\n",
       "    }\n",
       "\n",
       "    .dataframe thead th {\n",
       "        text-align: right;\n",
       "    }\n",
       "</style>\n",
       "<table border=\"1\" class=\"dataframe\">\n",
       "  <thead>\n",
       "    <tr style=\"text-align: right;\">\n",
       "      <th></th>\n",
       "      <th>title</th>\n",
       "      <th>director</th>\n",
       "      <th>actors</th>\n",
       "    </tr>\n",
       "  </thead>\n",
       "  <tbody>\n",
       "    <tr>\n",
       "      <th>0</th>\n",
       "      <td>Suvarna Sundari</td>\n",
       "      <td>Msn Surya</td>\n",
       "      <td>Shamna Kasim, Sakshi Chaudhary, Jaya Prada, Av...</td>\n",
       "    </tr>\n",
       "    <tr>\n",
       "      <th>1</th>\n",
       "      <td>Notuku Potu</td>\n",
       "      <td>Basheed S.K.</td>\n",
       "      <td>Mumait Khan, Manisha Koirala, Arjun Sarja</td>\n",
       "    </tr>\n",
       "    <tr>\n",
       "      <th>2</th>\n",
       "      <td>Jeeudo</td>\n",
       "      <td>Aalmist Subba</td>\n",
       "      <td>Prashant Baraili, Davina, Pranisha Gahatraj, P...</td>\n",
       "    </tr>\n",
       "    <tr>\n",
       "      <th>3</th>\n",
       "      <td>Ek</td>\n",
       "      <td>Sampath Rudra</td>\n",
       "      <td>Bishnu Adhikari, Himanshi Khurana, Aparna Shar...</td>\n",
       "    </tr>\n",
       "    <tr>\n",
       "      <th>4</th>\n",
       "      <td>Lejos de Casa pelicula Venezolana</td>\n",
       "      <td>Abner Official</td>\n",
       "      <td>Angibell, Gabriel Buitrago, Darwing, Dariana J...</td>\n",
       "    </tr>\n",
       "    <tr>\n",
       "      <th>5</th>\n",
       "      <td>Meka Suri</td>\n",
       "      <td>Trinadh Velisila</td>\n",
       "      <td>Abhinay, Naresh Byreddy, Sharat Kumar, Sravan,...</td>\n",
       "    </tr>\n",
       "    <tr>\n",
       "      <th>6</th>\n",
       "      <td>Hopeful Notes</td>\n",
       "      <td>Valerio Zanoli</td>\n",
       "      <td>Walter Nudo, Colin Ross, Ian Poland, Laural Me...</td>\n",
       "    </tr>\n",
       "    <tr>\n",
       "      <th>7</th>\n",
       "      <td>Vaarthakal Ithuvare</td>\n",
       "      <td>Manoj Nair</td>\n",
       "      <td>Siju Wilson, Nandu, Vinay Forrt, Mammukoya, Al...</td>\n",
       "    </tr>\n",
       "    <tr>\n",
       "      <th>8</th>\n",
       "      <td>The Moving on Phase</td>\n",
       "      <td>Don Tjernagel</td>\n",
       "      <td>Matt Anderson, Clint Boevers, Jillian Brown, C...</td>\n",
       "    </tr>\n",
       "    <tr>\n",
       "      <th>9</th>\n",
       "      <td>Isha</td>\n",
       "      <td>Jose Thomas</td>\n",
       "      <td>Kishore Satya, Abhishek Vinod</td>\n",
       "    </tr>\n",
       "  </tbody>\n",
       "</table>\n",
       "</div>"
      ],
      "text/plain": [
       "                               title          director  \\\n",
       "0                    Suvarna Sundari         Msn Surya   \n",
       "1                        Notuku Potu      Basheed S.K.   \n",
       "2                             Jeeudo     Aalmist Subba   \n",
       "3                                 Ek     Sampath Rudra   \n",
       "4  Lejos de Casa pelicula Venezolana    Abner Official   \n",
       "5                          Meka Suri  Trinadh Velisila   \n",
       "6                      Hopeful Notes    Valerio Zanoli   \n",
       "7                Vaarthakal Ithuvare        Manoj Nair   \n",
       "8                The Moving on Phase     Don Tjernagel   \n",
       "9                               Isha       Jose Thomas   \n",
       "\n",
       "                                              actors  \n",
       "0  Shamna Kasim, Sakshi Chaudhary, Jaya Prada, Av...  \n",
       "1          Mumait Khan, Manisha Koirala, Arjun Sarja  \n",
       "2  Prashant Baraili, Davina, Pranisha Gahatraj, P...  \n",
       "3  Bishnu Adhikari, Himanshi Khurana, Aparna Shar...  \n",
       "4  Angibell, Gabriel Buitrago, Darwing, Dariana J...  \n",
       "5  Abhinay, Naresh Byreddy, Sharat Kumar, Sravan,...  \n",
       "6  Walter Nudo, Colin Ross, Ian Poland, Laural Me...  \n",
       "7  Siju Wilson, Nandu, Vinay Forrt, Mammukoya, Al...  \n",
       "8  Matt Anderson, Clint Boevers, Jillian Brown, C...  \n",
       "9                      Kishore Satya, Abhishek Vinod  "
      ]
     },
     "execution_count": 29,
     "metadata": {},
     "output_type": "execute_result"
    }
   ],
   "source": [
    "inter_dir = df_ranking[['title', 'director']]\n",
    "inter_act = df_ranking[['title' , 'actors']]\n",
    "inter = inter_dir.merge(inter_act , on = 'title') #UNE OS DOIS DATAFRAMES CRIADOS ANTERIORMENTE PELA CHAVE 'TITLE'\n",
    "inter.head(10)"
   ]
  },
  {
   "cell_type": "markdown",
   "metadata": {},
   "source": [
    "#### TEN BEST GENRES"
   ]
  },
  {
   "cell_type": "code",
   "execution_count": 30,
   "metadata": {},
   "outputs": [
    {
     "data": {
      "text/plain": [
       "Text(0.5,0,'Genres')"
      ]
     },
     "execution_count": 30,
     "metadata": {},
     "output_type": "execute_result"
    },
    {
     "data": {
      "image/png": "[encoded data removed]",
      "text/plain": [
       "<Figure size 432x288 with 1 Axes>"
      ]
     },
     "metadata": {},
     "output_type": "display_data"
    }
   ],
   "source": [
    "# OS 10 GÊNEROS MAIS PRODUZIDOS\n",
    "genre = df_imdb['genre'].value_counts() \n",
    "genre[0:10].plot.bar()\n",
    "plt.xlabel('Genres')"
   ]
  },
  {
   "cell_type": "markdown",
   "metadata": {},
   "source": [
    "#### THE COUNTRIES THAT MOST PRODUCED MOVIES"
   ]
  },
  {
   "cell_type": "code",
   "execution_count": 31,
   "metadata": {},
   "outputs": [
    {
     "data": {
      "text/plain": [
       "<matplotlib.axes._subplots.AxesSubplot at 0x1d0634d55c0>"
      ]
     },
     "execution_count": 31,
     "metadata": {},
     "output_type": "execute_result"
    },
    {
     "data": {
      "image/png": "[encoded data removed]",
      "text/plain": [
       "<Figure size 432x288 with 1 Axes>"
      ]
     },
     "metadata": {},
     "output_type": "display_data"
    }
   ],
   "source": [
    "# OS 20 PAÍSES QUE MAIS LANÇAM FILMES\n",
    "dir_genr =df_imdb['title'].groupby(df_imdb['country']).count()\n",
    "dir_genr.sort_values(ascending = False)[0:20].plot.barh()"
   ]
  },
  {
   "cell_type": "markdown",
   "metadata": {},
   "source": [
    "#### RELATIONSHIP BETWEEN VOTES AND AVERAGE"
   ]
  },
  {
   "cell_type": "code",
   "execution_count": 32,
   "metadata": {},
   "outputs": [
    {
     "data": {
      "image/png": "[encoded data removed]",
      "text/plain": [
       "<Figure size 432x288 with 1 Axes>"
      ]
     },
     "metadata": {},
     "output_type": "display_data"
    }
   ],
   "source": [
    "# RELAÇÃO ENTRE NOTA MÉDIA E NÚMERO DE VOTOS RECEBIDOS\n",
    "bud_plot= sns.scatterplot(x='votes',y = 'avg_vote', data = df_imdb )\n"
   ]
  },
  {
   "cell_type": "markdown",
   "metadata": {},
   "source": [
    "#### MOVIES WITH MAX AND MIN VOTES"
   ]
  },
  {
   "cell_type": "code",
   "execution_count": 33,
   "metadata": {},
   "outputs": [
    {
     "data": {
      "text/html": [
       "<div>\n",
       "<style scoped>\n",
       "    .dataframe tbody tr th:only-of-type {\n",
       "        vertical-align: middle;\n",
       "    }\n",
       "\n",
       "    .dataframe tbody tr th {\n",
       "        vertical-align: top;\n",
       "    }\n",
       "\n",
       "    .dataframe thead th {\n",
       "        text-align: right;\n",
       "    }\n",
       "</style>\n",
       "<table border=\"1\" class=\"dataframe\">\n",
       "  <thead>\n",
       "    <tr style=\"text-align: right;\">\n",
       "      <th></th>\n",
       "      <th>title</th>\n",
       "      <th>votes</th>\n",
       "    </tr>\n",
       "  </thead>\n",
       "  <tbody>\n",
       "    <tr>\n",
       "      <th>28453</th>\n",
       "      <td>Le ali della libertà</td>\n",
       "      <td>2278845</td>\n",
       "    </tr>\n",
       "  </tbody>\n",
       "</table>\n",
       "</div>"
      ],
      "text/plain": [
       "                      title    votes\n",
       "28453  Le ali della libertà  2278845"
      ]
     },
     "execution_count": 33,
     "metadata": {},
     "output_type": "execute_result"
    }
   ],
   "source": [
    "df_imdb[df_imdb['votes'] == df_imdb['votes'].max()][['title' , 'votes']]"
   ]
  },
  {
   "cell_type": "code",
   "execution_count": 34,
   "metadata": {},
   "outputs": [
    {
     "data": {
      "text/html": [
       "<div>\n",
       "<style scoped>\n",
       "    .dataframe tbody tr th:only-of-type {\n",
       "        vertical-align: middle;\n",
       "    }\n",
       "\n",
       "    .dataframe tbody tr th {\n",
       "        vertical-align: top;\n",
       "    }\n",
       "\n",
       "    .dataframe thead th {\n",
       "        text-align: right;\n",
       "    }\n",
       "</style>\n",
       "<table border=\"1\" class=\"dataframe\">\n",
       "  <thead>\n",
       "    <tr style=\"text-align: right;\">\n",
       "      <th></th>\n",
       "      <th>title</th>\n",
       "      <th>votes</th>\n",
       "    </tr>\n",
       "  </thead>\n",
       "  <tbody>\n",
       "    <tr>\n",
       "      <th>42836</th>\n",
       "      <td>Toutes ces belles promesses</td>\n",
       "      <td>99</td>\n",
       "    </tr>\n",
       "    <tr>\n",
       "      <th>65224</th>\n",
       "      <td>Töchter</td>\n",
       "      <td>99</td>\n",
       "    </tr>\n",
       "    <tr>\n",
       "      <th>79882</th>\n",
       "      <td>The Baylock Residence</td>\n",
       "      <td>99</td>\n",
       "    </tr>\n",
       "    <tr>\n",
       "      <th>79933</th>\n",
       "      <td>Santa Fake</td>\n",
       "      <td>99</td>\n",
       "    </tr>\n",
       "    <tr>\n",
       "      <th>81474</th>\n",
       "      <td>My Name Is Myeisha</td>\n",
       "      <td>99</td>\n",
       "    </tr>\n",
       "  </tbody>\n",
       "</table>\n",
       "</div>"
      ],
      "text/plain": [
       "                             title  votes\n",
       "42836  Toutes ces belles promesses     99\n",
       "65224                      Töchter     99\n",
       "79882        The Baylock Residence     99\n",
       "79933                   Santa Fake     99\n",
       "81474           My Name Is Myeisha     99"
      ]
     },
     "execution_count": 34,
     "metadata": {},
     "output_type": "execute_result"
    }
   ],
   "source": [
    "df_imdb[df_imdb['votes'] == df_imdb['votes'].min()][['title' , 'votes']]"
   ]
  },
  {
   "cell_type": "markdown",
   "metadata": {},
   "source": [
    "#### CORRECTED AVG_VOTE"
   ]
  },
  {
   "cell_type": "markdown",
   "metadata": {},
   "source": [
    "#### Como proposto, será aplicada uma correção na nota média de cada filme em função do número de votos recebidos\n",
    "#### O 'avg_vote' de cada filme que estiver com número de votos('votes') abaixo da mediana, perderá pontos na seguinte ordem:\n",
    "##### percentil 40 até  50: - 0.2 pts\n",
    "##### percentil 30 até  40: - 0.4 pts\n",
    "##### percentil 20 até  30: - 0.6 pts\n",
    "##### percentil 10 até  20: - 0.8 pts\n",
    "##### percentil 0 até  10: - 1.0 pts\n",
    "##### Filmes com número de votos acima da mediana não serão penalizados\n"
   ]
  },
  {
   "cell_type": "code",
   "execution_count": 35,
   "metadata": {},
   "outputs": [
    {
     "name": "stdout",
     "output_type": "stream",
     "text": [
      "484.0\n",
      "335.0\n",
      "240.0\n",
      "176.0\n",
      "131.0\n"
     ]
    }
   ],
   "source": [
    "# DESCOBRINDO OS PERCENTIS\n",
    "print(np.percentile(df_imdb['votes'],50))\n",
    "print(np.percentile(df_imdb['votes'],40))\n",
    "print(np.percentile(df_imdb['votes'],30))\n",
    "print(np.percentile(df_imdb['votes'],20))\n",
    "print(np.percentile(df_imdb['votes'],10))"
   ]
  },
  {
   "cell_type": "code",
   "execution_count": 36,
   "metadata": {},
   "outputs": [],
   "source": [
    "# CRIANDO OS FATORES DE CORREÇÃO\n",
    "fator_corr=[]\n",
    "for vot in df_imdb['votes']:\n",
    "    \n",
    "    if (vot < 484) and (vot >= 335):\n",
    "        fator_corr.append(0.2)\n",
    "    elif (vot < 335) and (vot >= 240):\n",
    "        fator_corr.append(0.4)\n",
    "    elif (vot < 240) and (vot >= 176):\n",
    "        fator_corr.append(0.6)\n",
    "    elif (vot < 176) and (vot >= 131):\n",
    "        fator_corr.append(0.8)\n",
    "    elif vot < 131:\n",
    "        fator_corr.append(1.0)\n",
    "    elif vot >= 484:\n",
    "        fator_corr.append(0)"
   ]
  },
  {
   "cell_type": "code",
   "execution_count": 37,
   "metadata": {},
   "outputs": [
    {
     "name": "stderr",
     "output_type": "stream",
     "text": [
      "C:\\Users\\sfsrj\\Anaconda3\\lib\\site-packages\\ipykernel_launcher.py:3: SettingWithCopyWarning: \n",
      "A value is trying to be set on a copy of a slice from a DataFrame.\n",
      "Try using .loc[row_indexer,col_indexer] = value instead\n",
      "\n",
      "See the caveats in the documentation: http://pandas.pydata.org/pandas-docs/stable/indexing.html#indexing-view-versus-copy\n",
      "  This is separate from the ipykernel package so we can avoid doing imports until\n",
      "C:\\Users\\sfsrj\\Anaconda3\\lib\\site-packages\\ipykernel_launcher.py:4: SettingWithCopyWarning: \n",
      "A value is trying to be set on a copy of a slice from a DataFrame.\n",
      "Try using .loc[row_indexer,col_indexer] = value instead\n",
      "\n",
      "See the caveats in the documentation: http://pandas.pydata.org/pandas-docs/stable/indexing.html#indexing-view-versus-copy\n",
      "  after removing the cwd from sys.path.\n"
     ]
    },
    {
     "data": {
      "text/html": [
       "<div>\n",
       "<style scoped>\n",
       "    .dataframe tbody tr th:only-of-type {\n",
       "        vertical-align: middle;\n",
       "    }\n",
       "\n",
       "    .dataframe tbody tr th {\n",
       "        vertical-align: top;\n",
       "    }\n",
       "\n",
       "    .dataframe thead th {\n",
       "        text-align: right;\n",
       "    }\n",
       "</style>\n",
       "<table border=\"1\" class=\"dataframe\">\n",
       "  <thead>\n",
       "    <tr style=\"text-align: right;\">\n",
       "      <th></th>\n",
       "      <th>title</th>\n",
       "      <th>votes</th>\n",
       "      <th>avg_vote</th>\n",
       "      <th>fator_corr</th>\n",
       "      <th>voto_corr</th>\n",
       "    </tr>\n",
       "  </thead>\n",
       "  <tbody>\n",
       "    <tr>\n",
       "      <th>0</th>\n",
       "      <td>Miss Jerry</td>\n",
       "      <td>154</td>\n",
       "      <td>5.9</td>\n",
       "      <td>0.8</td>\n",
       "      <td>5.1</td>\n",
       "    </tr>\n",
       "    <tr>\n",
       "      <th>1</th>\n",
       "      <td>The Story of the Kelly Gang</td>\n",
       "      <td>589</td>\n",
       "      <td>6.1</td>\n",
       "      <td>0.0</td>\n",
       "      <td>6.1</td>\n",
       "    </tr>\n",
       "    <tr>\n",
       "      <th>2</th>\n",
       "      <td>Den sorte drøm</td>\n",
       "      <td>188</td>\n",
       "      <td>5.8</td>\n",
       "      <td>0.6</td>\n",
       "      <td>5.2</td>\n",
       "    </tr>\n",
       "    <tr>\n",
       "      <th>3</th>\n",
       "      <td>Cleopatra</td>\n",
       "      <td>446</td>\n",
       "      <td>5.2</td>\n",
       "      <td>0.2</td>\n",
       "      <td>5.0</td>\n",
       "    </tr>\n",
       "    <tr>\n",
       "      <th>4</th>\n",
       "      <td>L'Inferno</td>\n",
       "      <td>2237</td>\n",
       "      <td>7.0</td>\n",
       "      <td>0.0</td>\n",
       "      <td>7.0</td>\n",
       "    </tr>\n",
       "    <tr>\n",
       "      <th>5</th>\n",
       "      <td>From the Manger to the Cross; or, Jesus of Naz...</td>\n",
       "      <td>484</td>\n",
       "      <td>5.7</td>\n",
       "      <td>0.0</td>\n",
       "      <td>5.7</td>\n",
       "    </tr>\n",
       "    <tr>\n",
       "      <th>6</th>\n",
       "      <td>Madame DuBarry</td>\n",
       "      <td>753</td>\n",
       "      <td>6.8</td>\n",
       "      <td>0.0</td>\n",
       "      <td>6.8</td>\n",
       "    </tr>\n",
       "    <tr>\n",
       "      <th>7</th>\n",
       "      <td>Quo Vadis?</td>\n",
       "      <td>273</td>\n",
       "      <td>6.2</td>\n",
       "      <td>0.4</td>\n",
       "      <td>5.8</td>\n",
       "    </tr>\n",
       "    <tr>\n",
       "      <th>8</th>\n",
       "      <td>Independenta Romaniei</td>\n",
       "      <td>198</td>\n",
       "      <td>6.7</td>\n",
       "      <td>0.6</td>\n",
       "      <td>6.1</td>\n",
       "    </tr>\n",
       "    <tr>\n",
       "      <th>9</th>\n",
       "      <td>Richard III</td>\n",
       "      <td>225</td>\n",
       "      <td>5.5</td>\n",
       "      <td>0.6</td>\n",
       "      <td>4.9</td>\n",
       "    </tr>\n",
       "    <tr>\n",
       "      <th>10</th>\n",
       "      <td>Atlantis</td>\n",
       "      <td>331</td>\n",
       "      <td>6.6</td>\n",
       "      <td>0.4</td>\n",
       "      <td>6.2</td>\n",
       "    </tr>\n",
       "    <tr>\n",
       "      <th>11</th>\n",
       "      <td>Fantômas - À l'ombre de la guillotine</td>\n",
       "      <td>1944</td>\n",
       "      <td>7.0</td>\n",
       "      <td>0.0</td>\n",
       "      <td>7.0</td>\n",
       "    </tr>\n",
       "    <tr>\n",
       "      <th>12</th>\n",
       "      <td>Il calvario di una madre</td>\n",
       "      <td>948</td>\n",
       "      <td>7.1</td>\n",
       "      <td>0.0</td>\n",
       "      <td>7.1</td>\n",
       "    </tr>\n",
       "    <tr>\n",
       "      <th>13</th>\n",
       "      <td>Juve contre Fantômas</td>\n",
       "      <td>1349</td>\n",
       "      <td>7.0</td>\n",
       "      <td>0.0</td>\n",
       "      <td>7.0</td>\n",
       "    </tr>\n",
       "    <tr>\n",
       "      <th>14</th>\n",
       "      <td>Ma l'amor mio non muore...</td>\n",
       "      <td>100</td>\n",
       "      <td>6.2</td>\n",
       "      <td>1.0</td>\n",
       "      <td>5.2</td>\n",
       "    </tr>\n",
       "    <tr>\n",
       "      <th>15</th>\n",
       "      <td>Maudite soit la guerre</td>\n",
       "      <td>124</td>\n",
       "      <td>6.5</td>\n",
       "      <td>1.0</td>\n",
       "      <td>5.5</td>\n",
       "    </tr>\n",
       "    <tr>\n",
       "      <th>16</th>\n",
       "      <td>Le mort qui tue</td>\n",
       "      <td>1050</td>\n",
       "      <td>7.0</td>\n",
       "      <td>0.0</td>\n",
       "      <td>7.0</td>\n",
       "    </tr>\n",
       "    <tr>\n",
       "      <th>17</th>\n",
       "      <td>Amore di madre</td>\n",
       "      <td>187</td>\n",
       "      <td>5.8</td>\n",
       "      <td>0.6</td>\n",
       "      <td>5.2</td>\n",
       "    </tr>\n",
       "    <tr>\n",
       "      <th>18</th>\n",
       "      <td>Lo studente di Praga</td>\n",
       "      <td>1768</td>\n",
       "      <td>6.5</td>\n",
       "      <td>0.0</td>\n",
       "      <td>6.5</td>\n",
       "    </tr>\n",
       "    <tr>\n",
       "      <th>19</th>\n",
       "      <td>Traffic in Souls</td>\n",
       "      <td>552</td>\n",
       "      <td>6.0</td>\n",
       "      <td>0.0</td>\n",
       "      <td>6.0</td>\n",
       "    </tr>\n",
       "  </tbody>\n",
       "</table>\n",
       "</div>"
      ],
      "text/plain": [
       "                                                title  votes  avg_vote  \\\n",
       "0                                          Miss Jerry    154       5.9   \n",
       "1                         The Story of the Kelly Gang    589       6.1   \n",
       "2                                      Den sorte drøm    188       5.8   \n",
       "3                                           Cleopatra    446       5.2   \n",
       "4                                           L'Inferno   2237       7.0   \n",
       "5   From the Manger to the Cross; or, Jesus of Naz...    484       5.7   \n",
       "6                                      Madame DuBarry    753       6.8   \n",
       "7                                          Quo Vadis?    273       6.2   \n",
       "8                               Independenta Romaniei    198       6.7   \n",
       "9                                         Richard III    225       5.5   \n",
       "10                                           Atlantis    331       6.6   \n",
       "11              Fantômas - À l'ombre de la guillotine   1944       7.0   \n",
       "12                           Il calvario di una madre    948       7.1   \n",
       "13                               Juve contre Fantômas   1349       7.0   \n",
       "14                         Ma l'amor mio non muore...    100       6.2   \n",
       "15                             Maudite soit la guerre    124       6.5   \n",
       "16                                    Le mort qui tue   1050       7.0   \n",
       "17                                     Amore di madre    187       5.8   \n",
       "18                               Lo studente di Praga   1768       6.5   \n",
       "19                                   Traffic in Souls    552       6.0   \n",
       "\n",
       "    fator_corr  voto_corr  \n",
       "0          0.8        5.1  \n",
       "1          0.0        6.1  \n",
       "2          0.6        5.2  \n",
       "3          0.2        5.0  \n",
       "4          0.0        7.0  \n",
       "5          0.0        5.7  \n",
       "6          0.0        6.8  \n",
       "7          0.4        5.8  \n",
       "8          0.6        6.1  \n",
       "9          0.6        4.9  \n",
       "10         0.4        6.2  \n",
       "11         0.0        7.0  \n",
       "12         0.0        7.1  \n",
       "13         0.0        7.0  \n",
       "14         1.0        5.2  \n",
       "15         1.0        5.5  \n",
       "16         0.0        7.0  \n",
       "17         0.6        5.2  \n",
       "18         0.0        6.5  \n",
       "19         0.0        6.0  "
      ]
     },
     "execution_count": 37,
     "metadata": {},
     "output_type": "execute_result"
    }
   ],
   "source": [
    "# CRIANDO UM NOVO DATAFRAME COM OS VOTOS CORRIGIDOS\n",
    "df_corr = df_imdb[['title' , 'votes' , 'avg_vote']]\n",
    "df_corr['fator_corr'] = fator_corr\n",
    "df_corr['voto_corr'] = df_corr['avg_vote'] - df_corr['fator_corr']\n",
    "df_corr.head(20)"
   ]
  },
  {
   "cell_type": "code",
   "execution_count": null,
   "metadata": {},
   "outputs": [],
   "source": []
  }
 ],
 "metadata": {
  "kernelspec": {
   "display_name": "Python 3",
   "language": "python",
   "name": "python3"
  },
  "language_info": {
   "codemirror_mode": {
    "name": "ipython",
    "version": 3
   },
   "file_extension": ".py",
   "mimetype": "text/x-python",
   "name": "python",
   "nbconvert_exporter": "python",
   "pygments_lexer": "ipython3",
   "version": "3.6.5"
  }
 },
 "nbformat": 4,
 "nbformat_minor": 2
}
